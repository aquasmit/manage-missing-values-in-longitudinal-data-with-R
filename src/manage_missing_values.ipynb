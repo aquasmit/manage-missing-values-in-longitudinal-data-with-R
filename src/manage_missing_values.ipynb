{
 "cells": [
  {
   "cell_type": "markdown",
   "metadata": {},
   "source": [
    "# How to manage missing values"
   ]
  },
  {
   "cell_type": "markdown",
   "metadata": {},
   "source": [
    "### Load package and prepare a dataset"
   ]
  },
  {
   "cell_type": "code",
   "execution_count": 1,
   "metadata": {},
   "outputs": [
    {
     "name": "stderr",
     "output_type": "stream",
     "text": [
      "-- Attaching packages --------------------------------------- tidyverse 1.2.1 --\n",
      "v ggplot2 3.1.0     v purrr   0.2.5\n",
      "v tibble  1.4.2     v dplyr   0.7.8\n",
      "v tidyr   0.8.2     v stringr 1.3.1\n",
      "v readr   1.1.1     v forcats 0.3.0\n",
      "-- Conflicts ------------------------------------------ tidyverse_conflicts() --\n",
      "x dplyr::filter() masks stats::filter()\n",
      "x dplyr::lag()    masks stats::lag()\n"
     ]
    },
    {
     "data": {
      "text/html": [
       "<table>\n",
       "<thead><tr><th scope=col>id</th><th scope=col>quarter</th><th scope=col>spending</th></tr></thead>\n",
       "<tbody>\n",
       "\t<tr><td>1  </td><td>Jan</td><td>22 </td></tr>\n",
       "\t<tr><td>1  </td><td>Apr</td><td>35 </td></tr>\n",
       "\t<tr><td>1  </td><td>Jul</td><td>10 </td></tr>\n",
       "\t<tr><td>1  </td><td>Oct</td><td>64 </td></tr>\n",
       "\t<tr><td>2  </td><td>Jan</td><td>55 </td></tr>\n",
       "\t<tr><td>2  </td><td>Apr</td><td>23 </td></tr>\n",
       "\t<tr><td>2  </td><td>Jul</td><td>NA </td></tr>\n",
       "\t<tr><td>2  </td><td>Oct</td><td>10 </td></tr>\n",
       "\t<tr><td>3  </td><td>Jan</td><td>42 </td></tr>\n",
       "\t<tr><td>3  </td><td>Apr</td><td>NA </td></tr>\n",
       "\t<tr><td>3  </td><td>Jul</td><td>NA </td></tr>\n",
       "\t<tr><td>3  </td><td>Oct</td><td>18 </td></tr>\n",
       "</tbody>\n",
       "</table>\n"
      ],
      "text/latex": [
       "\\begin{tabular}{r|lll}\n",
       " id & quarter & spending\\\\\n",
       "\\hline\n",
       "\t 1   & Jan & 22 \\\\\n",
       "\t 1   & Apr & 35 \\\\\n",
       "\t 1   & Jul & 10 \\\\\n",
       "\t 1   & Oct & 64 \\\\\n",
       "\t 2   & Jan & 55 \\\\\n",
       "\t 2   & Apr & 23 \\\\\n",
       "\t 2   & Jul & NA \\\\\n",
       "\t 2   & Oct & 10 \\\\\n",
       "\t 3   & Jan & 42 \\\\\n",
       "\t 3   & Apr & NA \\\\\n",
       "\t 3   & Jul & NA \\\\\n",
       "\t 3   & Oct & 18 \\\\\n",
       "\\end{tabular}\n"
      ],
      "text/markdown": [
       "\n",
       "id | quarter | spending | \n",
       "|---|---|---|---|---|---|---|---|---|---|---|---|\n",
       "| 1   | Jan | 22  | \n",
       "| 1   | Apr | 35  | \n",
       "| 1   | Jul | 10  | \n",
       "| 1   | Oct | 64  | \n",
       "| 2   | Jan | 55  | \n",
       "| 2   | Apr | 23  | \n",
       "| 2   | Jul | NA  | \n",
       "| 2   | Oct | 10  | \n",
       "| 3   | Jan | 42  | \n",
       "| 3   | Apr | NA  | \n",
       "| 3   | Jul | NA  | \n",
       "| 3   | Oct | 18  | \n",
       "\n",
       "\n"
      ],
      "text/plain": [
       "   id quarter spending\n",
       "1  1  Jan     22      \n",
       "2  1  Apr     35      \n",
       "3  1  Jul     10      \n",
       "4  1  Oct     64      \n",
       "5  2  Jan     55      \n",
       "6  2  Apr     23      \n",
       "7  2  Jul     NA      \n",
       "8  2  Oct     10      \n",
       "9  3  Jan     42      \n",
       "10 3  Apr     NA      \n",
       "11 3  Jul     NA      \n",
       "12 3  Oct     18      "
      ]
     },
     "metadata": {},
     "output_type": "display_data"
    }
   ],
   "source": [
    "library(tidyverse)\n",
    "dat = data.frame(\n",
    "  id = c(1,1,1,1, 2,2,2,2, 3,3,3,3),\n",
    "  quarter = rep(c(\"Jan\", \"Apr\", \"Jul\", \"Oct\"), times=3), #repeat three times\n",
    "  spending = c(22,35,10,64, 55,23,NA,10, 42,NA,NA,18)\n",
    "  )\n",
    "dat"
   ]
  },
  {
   "cell_type": "markdown",
   "metadata": {},
   "source": [
    "### Identify missing values in above dataset"
   ]
  },
  {
   "cell_type": "code",
   "execution_count": 2,
   "metadata": {},
   "outputs": [
    {
     "data": {
      "text/html": [
       "<table>\n",
       "<thead><tr><th scope=col>id</th><th scope=col>missing</th></tr></thead>\n",
       "<tbody>\n",
       "\t<tr><td>1</td><td>0</td></tr>\n",
       "\t<tr><td>2</td><td>1</td></tr>\n",
       "\t<tr><td>3</td><td>2</td></tr>\n",
       "</tbody>\n",
       "</table>\n"
      ],
      "text/latex": [
       "\\begin{tabular}{r|ll}\n",
       " id & missing\\\\\n",
       "\\hline\n",
       "\t 1 & 0\\\\\n",
       "\t 2 & 1\\\\\n",
       "\t 3 & 2\\\\\n",
       "\\end{tabular}\n"
      ],
      "text/markdown": [
       "\n",
       "id | missing | \n",
       "|---|---|---|\n",
       "| 1 | 0 | \n",
       "| 2 | 1 | \n",
       "| 3 | 2 | \n",
       "\n",
       "\n"
      ],
      "text/plain": [
       "  id missing\n",
       "1 1  0      \n",
       "2 2  1      \n",
       "3 3  2      "
      ]
     },
     "metadata": {},
     "output_type": "display_data"
    }
   ],
   "source": [
    "dat %>%\n",
    "  group_by(id) %>% \n",
    "  summarise(missing=sum(is.na(spending)))"
   ]
  },
  {
   "cell_type": "markdown",
   "metadata": {},
   "source": [
    "Note:\n",
    "* From above table, it is clear there there no missing values in 'spending' column where id = 1\n",
    "* There is 1 row having missing value in 'spending' column where id =2\n",
    "* There are 2 rows having missing values in 'spending' column where id = 3"
   ]
  },
  {
   "cell_type": "markdown",
   "metadata": {},
   "source": [
    "## Management of missing values"
   ]
  },
  {
   "cell_type": "markdown",
   "metadata": {},
   "source": [
    "### 1. Removing missing values"
   ]
  },
  {
   "cell_type": "code",
   "execution_count": 3,
   "metadata": {},
   "outputs": [
    {
     "data": {
      "text/html": [
       "<table>\n",
       "<thead><tr><th></th><th scope=col>id</th><th scope=col>quarter</th><th scope=col>spending</th></tr></thead>\n",
       "<tbody>\n",
       "\t<tr><th scope=row>1</th><td>1  </td><td>Jan</td><td>22 </td></tr>\n",
       "\t<tr><th scope=row>2</th><td>1  </td><td>Apr</td><td>35 </td></tr>\n",
       "\t<tr><th scope=row>3</th><td>1  </td><td>Jul</td><td>10 </td></tr>\n",
       "\t<tr><th scope=row>4</th><td>1  </td><td>Oct</td><td>64 </td></tr>\n",
       "\t<tr><th scope=row>5</th><td>2  </td><td>Jan</td><td>55 </td></tr>\n",
       "\t<tr><th scope=row>6</th><td>2  </td><td>Apr</td><td>23 </td></tr>\n",
       "\t<tr><th scope=row>8</th><td>2  </td><td>Oct</td><td>10 </td></tr>\n",
       "\t<tr><th scope=row>9</th><td>3  </td><td>Jan</td><td>42 </td></tr>\n",
       "\t<tr><th scope=row>12</th><td>3  </td><td>Oct</td><td>18 </td></tr>\n",
       "</tbody>\n",
       "</table>\n"
      ],
      "text/latex": [
       "\\begin{tabular}{r|lll}\n",
       "  & id & quarter & spending\\\\\n",
       "\\hline\n",
       "\t1 & 1   & Jan & 22 \\\\\n",
       "\t2 & 1   & Apr & 35 \\\\\n",
       "\t3 & 1   & Jul & 10 \\\\\n",
       "\t4 & 1   & Oct & 64 \\\\\n",
       "\t5 & 2   & Jan & 55 \\\\\n",
       "\t6 & 2   & Apr & 23 \\\\\n",
       "\t8 & 2   & Oct & 10 \\\\\n",
       "\t9 & 3   & Jan & 42 \\\\\n",
       "\t12 & 3   & Oct & 18 \\\\\n",
       "\\end{tabular}\n"
      ],
      "text/markdown": [
       "\n",
       "| <!--/--> | id | quarter | spending | \n",
       "|---|---|---|---|---|---|---|---|---|\n",
       "| 1 | 1   | Jan | 22  | \n",
       "| 2 | 1   | Apr | 35  | \n",
       "| 3 | 1   | Jul | 10  | \n",
       "| 4 | 1   | Oct | 64  | \n",
       "| 5 | 2   | Jan | 55  | \n",
       "| 6 | 2   | Apr | 23  | \n",
       "| 8 | 2   | Oct | 10  | \n",
       "| 9 | 3   | Jan | 42  | \n",
       "| 12 | 3   | Oct | 18  | \n",
       "\n",
       "\n"
      ],
      "text/plain": [
       "   id quarter spending\n",
       "1  1  Jan     22      \n",
       "2  1  Apr     35      \n",
       "3  1  Jul     10      \n",
       "4  1  Oct     64      \n",
       "5  2  Jan     55      \n",
       "6  2  Apr     23      \n",
       "8  2  Oct     10      \n",
       "9  3  Jan     42      \n",
       "12 3  Oct     18      "
      ]
     },
     "metadata": {},
     "output_type": "display_data"
    }
   ],
   "source": [
    "na.omit(dat)"
   ]
  },
  {
   "cell_type": "markdown",
   "metadata": {},
   "source": [
    "### 2. Replace missing values with the average of the group\n",
    "This is a most common method to replace missings values within the group. I would recommed to check the distribution of data before deciding to replace missings with mean or median. In this example, I will use mean."
   ]
  },
  {
   "cell_type": "code",
   "execution_count": 5,
   "metadata": {},
   "outputs": [
    {
     "data": {
      "text/html": [
       "<table>\n",
       "<thead><tr><th scope=col>id</th><th scope=col>quarter</th><th scope=col>spending</th><th scope=col>spending_mean</th></tr></thead>\n",
       "<tbody>\n",
       "\t<tr><td>1       </td><td>Jan     </td><td>22      </td><td>22.00000</td></tr>\n",
       "\t<tr><td>1       </td><td>Apr     </td><td>35      </td><td>35.00000</td></tr>\n",
       "\t<tr><td>1       </td><td>Jul     </td><td>10      </td><td>10.00000</td></tr>\n",
       "\t<tr><td>1       </td><td>Oct     </td><td>64      </td><td>64.00000</td></tr>\n",
       "\t<tr><td>2       </td><td>Jan     </td><td>55      </td><td>55.00000</td></tr>\n",
       "\t<tr><td>2       </td><td>Apr     </td><td>23      </td><td>23.00000</td></tr>\n",
       "\t<tr><td>2       </td><td>Jul     </td><td>NA      </td><td>29.33333</td></tr>\n",
       "\t<tr><td>2       </td><td>Oct     </td><td>10      </td><td>10.00000</td></tr>\n",
       "\t<tr><td>3       </td><td>Jan     </td><td>42      </td><td>42.00000</td></tr>\n",
       "\t<tr><td>3       </td><td>Apr     </td><td>NA      </td><td>30.00000</td></tr>\n",
       "\t<tr><td>3       </td><td>Jul     </td><td>NA      </td><td>30.00000</td></tr>\n",
       "\t<tr><td>3       </td><td>Oct     </td><td>18      </td><td>18.00000</td></tr>\n",
       "</tbody>\n",
       "</table>\n"
      ],
      "text/latex": [
       "\\begin{tabular}{r|llll}\n",
       " id & quarter & spending & spending\\_mean\\\\\n",
       "\\hline\n",
       "\t 1        & Jan      & 22       & 22.00000\\\\\n",
       "\t 1        & Apr      & 35       & 35.00000\\\\\n",
       "\t 1        & Jul      & 10       & 10.00000\\\\\n",
       "\t 1        & Oct      & 64       & 64.00000\\\\\n",
       "\t 2        & Jan      & 55       & 55.00000\\\\\n",
       "\t 2        & Apr      & 23       & 23.00000\\\\\n",
       "\t 2        & Jul      & NA       & 29.33333\\\\\n",
       "\t 2        & Oct      & 10       & 10.00000\\\\\n",
       "\t 3        & Jan      & 42       & 42.00000\\\\\n",
       "\t 3        & Apr      & NA       & 30.00000\\\\\n",
       "\t 3        & Jul      & NA       & 30.00000\\\\\n",
       "\t 3        & Oct      & 18       & 18.00000\\\\\n",
       "\\end{tabular}\n"
      ],
      "text/markdown": [
       "\n",
       "id | quarter | spending | spending_mean | \n",
       "|---|---|---|---|---|---|---|---|---|---|---|---|\n",
       "| 1        | Jan      | 22       | 22.00000 | \n",
       "| 1        | Apr      | 35       | 35.00000 | \n",
       "| 1        | Jul      | 10       | 10.00000 | \n",
       "| 1        | Oct      | 64       | 64.00000 | \n",
       "| 2        | Jan      | 55       | 55.00000 | \n",
       "| 2        | Apr      | 23       | 23.00000 | \n",
       "| 2        | Jul      | NA       | 29.33333 | \n",
       "| 2        | Oct      | 10       | 10.00000 | \n",
       "| 3        | Jan      | 42       | 42.00000 | \n",
       "| 3        | Apr      | NA       | 30.00000 | \n",
       "| 3        | Jul      | NA       | 30.00000 | \n",
       "| 3        | Oct      | 18       | 18.00000 | \n",
       "\n",
       "\n"
      ],
      "text/plain": [
       "   id quarter spending spending_mean\n",
       "1  1  Jan     22       22.00000     \n",
       "2  1  Apr     35       35.00000     \n",
       "3  1  Jul     10       10.00000     \n",
       "4  1  Oct     64       64.00000     \n",
       "5  2  Jan     55       55.00000     \n",
       "6  2  Apr     23       23.00000     \n",
       "7  2  Jul     NA       29.33333     \n",
       "8  2  Oct     10       10.00000     \n",
       "9  3  Jan     42       42.00000     \n",
       "10 3  Apr     NA       30.00000     \n",
       "11 3  Jul     NA       30.00000     \n",
       "12 3  Oct     18       18.00000     "
      ]
     },
     "metadata": {},
     "output_type": "display_data"
    }
   ],
   "source": [
    "dat %>% \n",
    "  group_by(id) %>% \n",
    "  mutate(spending_mean = ifelse(is.na(spending), mean(spending, na.rm=T), spending))"
   ]
  },
  {
   "cell_type": "markdown",
   "metadata": {},
   "source": [
    "### 3. Filling the missings with other values within the group\n",
    "This approach is useful when you need to replace the missing with the former or next value within the group. Filling of missing with other values can be in two directions, up and down. "
   ]
  },
  {
   "cell_type": "markdown",
   "metadata": {},
   "source": [
    "#### 3.1 Replace the missing value with it's previous value (fill down)\n",
    "When the direction is down the missing is replaced with the previous value"
   ]
  },
  {
   "cell_type": "code",
   "execution_count": 12,
   "metadata": {},
   "outputs": [
    {
     "data": {
      "text/html": [
       "<table>\n",
       "<thead><tr><th scope=col>id</th><th scope=col>quarter</th><th scope=col>spending</th></tr></thead>\n",
       "<tbody>\n",
       "\t<tr><td>1  </td><td>Jan</td><td>22 </td></tr>\n",
       "\t<tr><td>1  </td><td>Apr</td><td>35 </td></tr>\n",
       "\t<tr><td>1  </td><td>Jul</td><td>10 </td></tr>\n",
       "\t<tr><td>1  </td><td>Oct</td><td>64 </td></tr>\n",
       "\t<tr><td>2  </td><td>Jan</td><td>55 </td></tr>\n",
       "\t<tr><td>2  </td><td>Apr</td><td>23 </td></tr>\n",
       "\t<tr><td>2  </td><td>Jul</td><td>23 </td></tr>\n",
       "\t<tr><td>2  </td><td>Oct</td><td>10 </td></tr>\n",
       "\t<tr><td>3  </td><td>Jan</td><td>42 </td></tr>\n",
       "\t<tr><td>3  </td><td>Apr</td><td>42 </td></tr>\n",
       "\t<tr><td>3  </td><td>Jul</td><td>42 </td></tr>\n",
       "\t<tr><td>3  </td><td>Oct</td><td>18 </td></tr>\n",
       "</tbody>\n",
       "</table>\n"
      ],
      "text/latex": [
       "\\begin{tabular}{r|lll}\n",
       " id & quarter & spending\\\\\n",
       "\\hline\n",
       "\t 1   & Jan & 22 \\\\\n",
       "\t 1   & Apr & 35 \\\\\n",
       "\t 1   & Jul & 10 \\\\\n",
       "\t 1   & Oct & 64 \\\\\n",
       "\t 2   & Jan & 55 \\\\\n",
       "\t 2   & Apr & 23 \\\\\n",
       "\t 2   & Jul & 23 \\\\\n",
       "\t 2   & Oct & 10 \\\\\n",
       "\t 3   & Jan & 42 \\\\\n",
       "\t 3   & Apr & 42 \\\\\n",
       "\t 3   & Jul & 42 \\\\\n",
       "\t 3   & Oct & 18 \\\\\n",
       "\\end{tabular}\n"
      ],
      "text/markdown": [
       "\n",
       "id | quarter | spending | \n",
       "|---|---|---|---|---|---|---|---|---|---|---|---|\n",
       "| 1   | Jan | 22  | \n",
       "| 1   | Apr | 35  | \n",
       "| 1   | Jul | 10  | \n",
       "| 1   | Oct | 64  | \n",
       "| 2   | Jan | 55  | \n",
       "| 2   | Apr | 23  | \n",
       "| 2   | Jul | 23  | \n",
       "| 2   | Oct | 10  | \n",
       "| 3   | Jan | 42  | \n",
       "| 3   | Apr | 42  | \n",
       "| 3   | Jul | 42  | \n",
       "| 3   | Oct | 18  | \n",
       "\n",
       "\n"
      ],
      "text/plain": [
       "   id quarter spending\n",
       "1  1  Jan     22      \n",
       "2  1  Apr     35      \n",
       "3  1  Jul     10      \n",
       "4  1  Oct     64      \n",
       "5  2  Jan     55      \n",
       "6  2  Apr     23      \n",
       "7  2  Jul     23      \n",
       "8  2  Oct     10      \n",
       "9  3  Jan     42      \n",
       "10 3  Apr     42      \n",
       "11 3  Jul     42      \n",
       "12 3  Oct     18      "
      ]
     },
     "metadata": {},
     "output_type": "display_data"
    }
   ],
   "source": [
    "dat_fill_down = dat %>% \n",
    "  group_by(id) %>% \n",
    "  fill(spending, .direction = c(\"down\"))\n",
    "dat_fill_down"
   ]
  },
  {
   "cell_type": "markdown",
   "metadata": {},
   "source": [
    "#### 3.1 Replace the missing value with it's next available value (fill up)\n",
    "When the direction is up the missing is replaced with the next value"
   ]
  },
  {
   "cell_type": "code",
   "execution_count": 13,
   "metadata": {},
   "outputs": [
    {
     "data": {
      "text/html": [
       "<table>\n",
       "<thead><tr><th scope=col>id</th><th scope=col>quarter</th><th scope=col>spending</th></tr></thead>\n",
       "<tbody>\n",
       "\t<tr><td>1  </td><td>Jan</td><td>22 </td></tr>\n",
       "\t<tr><td>1  </td><td>Apr</td><td>35 </td></tr>\n",
       "\t<tr><td>1  </td><td>Jul</td><td>10 </td></tr>\n",
       "\t<tr><td>1  </td><td>Oct</td><td>64 </td></tr>\n",
       "\t<tr><td>2  </td><td>Jan</td><td>55 </td></tr>\n",
       "\t<tr><td>2  </td><td>Apr</td><td>23 </td></tr>\n",
       "\t<tr><td>2  </td><td>Jul</td><td>10 </td></tr>\n",
       "\t<tr><td>2  </td><td>Oct</td><td>10 </td></tr>\n",
       "\t<tr><td>3  </td><td>Jan</td><td>42 </td></tr>\n",
       "\t<tr><td>3  </td><td>Apr</td><td>18 </td></tr>\n",
       "\t<tr><td>3  </td><td>Jul</td><td>18 </td></tr>\n",
       "\t<tr><td>3  </td><td>Oct</td><td>18 </td></tr>\n",
       "</tbody>\n",
       "</table>\n"
      ],
      "text/latex": [
       "\\begin{tabular}{r|lll}\n",
       " id & quarter & spending\\\\\n",
       "\\hline\n",
       "\t 1   & Jan & 22 \\\\\n",
       "\t 1   & Apr & 35 \\\\\n",
       "\t 1   & Jul & 10 \\\\\n",
       "\t 1   & Oct & 64 \\\\\n",
       "\t 2   & Jan & 55 \\\\\n",
       "\t 2   & Apr & 23 \\\\\n",
       "\t 2   & Jul & 10 \\\\\n",
       "\t 2   & Oct & 10 \\\\\n",
       "\t 3   & Jan & 42 \\\\\n",
       "\t 3   & Apr & 18 \\\\\n",
       "\t 3   & Jul & 18 \\\\\n",
       "\t 3   & Oct & 18 \\\\\n",
       "\\end{tabular}\n"
      ],
      "text/markdown": [
       "\n",
       "id | quarter | spending | \n",
       "|---|---|---|---|---|---|---|---|---|---|---|---|\n",
       "| 1   | Jan | 22  | \n",
       "| 1   | Apr | 35  | \n",
       "| 1   | Jul | 10  | \n",
       "| 1   | Oct | 64  | \n",
       "| 2   | Jan | 55  | \n",
       "| 2   | Apr | 23  | \n",
       "| 2   | Jul | 10  | \n",
       "| 2   | Oct | 10  | \n",
       "| 3   | Jan | 42  | \n",
       "| 3   | Apr | 18  | \n",
       "| 3   | Jul | 18  | \n",
       "| 3   | Oct | 18  | \n",
       "\n",
       "\n"
      ],
      "text/plain": [
       "   id quarter spending\n",
       "1  1  Jan     22      \n",
       "2  1  Apr     35      \n",
       "3  1  Jul     10      \n",
       "4  1  Oct     64      \n",
       "5  2  Jan     55      \n",
       "6  2  Apr     23      \n",
       "7  2  Jul     10      \n",
       "8  2  Oct     10      \n",
       "9  3  Jan     42      \n",
       "10 3  Apr     18      \n",
       "11 3  Jul     18      \n",
       "12 3  Oct     18      "
      ]
     },
     "metadata": {},
     "output_type": "display_data"
    }
   ],
   "source": [
    "dat_fill_up = dat %>% \n",
    "  group_by(id) %>% \n",
    "  fill(spending, .direction = c(\"up\"))\n",
    "dat_fill_up"
   ]
  }
 ],
 "metadata": {
  "kernelspec": {
   "display_name": "R",
   "language": "R",
   "name": "ir"
  },
  "language_info": {
   "codemirror_mode": "r",
   "file_extension": ".r",
   "mimetype": "text/x-r-source",
   "name": "R",
   "pygments_lexer": "r",
   "version": "3.5.1"
  }
 },
 "nbformat": 4,
 "nbformat_minor": 2
}
